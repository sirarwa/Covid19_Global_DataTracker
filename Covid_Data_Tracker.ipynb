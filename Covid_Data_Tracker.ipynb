{
 "cells": [
  {
   "cell_type": "markdown",
   "id": "da171b11",
   "metadata": {},
   "source": [
    "**COVID-19 GLOBAL DATA TRACKER**\n",
    "\n",
    "This project aims to build a data analysis and reporting notebook (or app) that tracks global COVID-19 trends. The project will analyze cases, deaths, recoveries, and vaccinations across countries and time. The project involves cleaning and processing real-world data, performing exploratory data analysis (EDA), generating insights, and visualizing trends using Python data tools. The final deliverable is a data analysis report with visuals and narrative insights, suitable for presentation or publishing.  \n",
    "\n",
    "**The Project Objectives include:**  \n",
    "- Import and clean COVID-19 global data.  \n",
    "- Analyze time trends (cases, deaths, vaccinations).  \n",
    "- Compare metrics across countries/regions.  \n",
    "- Visualize trends with charts and maps.  \n",
    "- Communicate findings from the data.  \n"
   ]
  },
  {
   "cell_type": "code",
   "execution_count": 2,
   "id": "341d4a55",
   "metadata": {},
   "outputs": [],
   "source": [
    "#importing the necessary libraries. \n",
    "import pandas as pd\n",
    "import numpy as np\n",
    "import matplotlib.pyplot as plt"
   ]
  },
  {
   "cell_type": "markdown",
   "id": "f5b599b9",
   "metadata": {},
   "source": [
    "**Data Loading and Exploration**\n",
    "\n",
    "*Goal: Load the dataset and explore its structure.* \n",
    "\n",
    "✅ Tasks:\n",
    "\n",
    "- Loading the data using pandas.read_csv().\n",
    "\n",
    "- Checking the number of columns: df.columns.\n",
    "\n",
    "- Previewing the rows in the dataset: df.head().\n",
    "\n",
    "- Identifying any missing values: df.isnull().sum()."
   ]
  },
  {
   "cell_type": "code",
   "execution_count": 3,
   "id": "599f0f4b",
   "metadata": {},
   "outputs": [
    {
     "data": {
      "text/plain": [
       "Index(['iso_code', 'continent', 'location', 'date', 'total_cases', 'new_cases',\n",
       "       'new_cases_smoothed', 'total_deaths', 'new_deaths',\n",
       "       'new_deaths_smoothed', 'total_cases_per_million',\n",
       "       'new_cases_per_million', 'new_cases_smoothed_per_million',\n",
       "       'total_deaths_per_million', 'new_deaths_per_million',\n",
       "       'new_deaths_smoothed_per_million', 'reproduction_rate', 'icu_patients',\n",
       "       'icu_patients_per_million', 'hosp_patients',\n",
       "       'hosp_patients_per_million', 'weekly_icu_admissions',\n",
       "       'weekly_icu_admissions_per_million', 'weekly_hosp_admissions',\n",
       "       'weekly_hosp_admissions_per_million', 'total_tests', 'new_tests',\n",
       "       'total_tests_per_thousand', 'new_tests_per_thousand',\n",
       "       'new_tests_smoothed', 'new_tests_smoothed_per_thousand',\n",
       "       'positive_rate', 'tests_per_case', 'tests_units', 'total_vaccinations',\n",
       "       'people_vaccinated', 'people_fully_vaccinated', 'total_boosters',\n",
       "       'new_vaccinations', 'new_vaccinations_smoothed',\n",
       "       'total_vaccinations_per_hundred', 'people_vaccinated_per_hundred',\n",
       "       'people_fully_vaccinated_per_hundred', 'total_boosters_per_hundred',\n",
       "       'new_vaccinations_smoothed_per_million',\n",
       "       'new_people_vaccinated_smoothed',\n",
       "       'new_people_vaccinated_smoothed_per_hundred', 'stringency_index',\n",
       "       'population_density', 'median_age', 'aged_65_older', 'aged_70_older',\n",
       "       'gdp_per_capita', 'extreme_poverty', 'cardiovasc_death_rate',\n",
       "       'diabetes_prevalence', 'female_smokers', 'male_smokers',\n",
       "       'handwashing_facilities', 'hospital_beds_per_thousand',\n",
       "       'life_expectancy', 'human_development_index', 'population',\n",
       "       'excess_mortality_cumulative_absolute', 'excess_mortality_cumulative',\n",
       "       'excess_mortality', 'excess_mortality_cumulative_per_million'],\n",
       "      dtype='object')"
      ]
     },
     "execution_count": 3,
     "metadata": {},
     "output_type": "execute_result"
    }
   ],
   "source": [
    "#Loading the csv file into a pandas dataframe.\n",
    "pd.read_csv(\"owid-covid-data.csv\")\n",
    "#Checking the columns of the dataframe.\n",
    "df = pd.read_csv(\"owid-covid-data.csv\")\n",
    "df.columns"
   ]
  },
  {
   "cell_type": "code",
   "execution_count": 7,
   "id": "6f33f940",
   "metadata": {},
   "outputs": [
    {
     "data": {
      "text/html": [
       "<div>\n",
       "<style scoped>\n",
       "    .dataframe tbody tr th:only-of-type {\n",
       "        vertical-align: middle;\n",
       "    }\n",
       "\n",
       "    .dataframe tbody tr th {\n",
       "        vertical-align: top;\n",
       "    }\n",
       "\n",
       "    .dataframe thead th {\n",
       "        text-align: right;\n",
       "    }\n",
       "</style>\n",
       "<table border=\"1\" class=\"dataframe\">\n",
       "  <thead>\n",
       "    <tr style=\"text-align: right;\">\n",
       "      <th></th>\n",
       "      <th>iso_code</th>\n",
       "      <th>continent</th>\n",
       "      <th>location</th>\n",
       "      <th>date</th>\n",
       "      <th>total_cases</th>\n",
       "      <th>new_cases</th>\n",
       "      <th>new_cases_smoothed</th>\n",
       "      <th>total_deaths</th>\n",
       "      <th>new_deaths</th>\n",
       "      <th>new_deaths_smoothed</th>\n",
       "      <th>...</th>\n",
       "      <th>male_smokers</th>\n",
       "      <th>handwashing_facilities</th>\n",
       "      <th>hospital_beds_per_thousand</th>\n",
       "      <th>life_expectancy</th>\n",
       "      <th>human_development_index</th>\n",
       "      <th>population</th>\n",
       "      <th>excess_mortality_cumulative_absolute</th>\n",
       "      <th>excess_mortality_cumulative</th>\n",
       "      <th>excess_mortality</th>\n",
       "      <th>excess_mortality_cumulative_per_million</th>\n",
       "    </tr>\n",
       "  </thead>\n",
       "  <tbody>\n",
       "    <tr>\n",
       "      <th>0</th>\n",
       "      <td>AFG</td>\n",
       "      <td>Asia</td>\n",
       "      <td>Afghanistan</td>\n",
       "      <td>2020-01-05</td>\n",
       "      <td>0.0</td>\n",
       "      <td>0.0</td>\n",
       "      <td>NaN</td>\n",
       "      <td>0.0</td>\n",
       "      <td>0.0</td>\n",
       "      <td>NaN</td>\n",
       "      <td>...</td>\n",
       "      <td>NaN</td>\n",
       "      <td>37.746</td>\n",
       "      <td>0.5</td>\n",
       "      <td>64.83</td>\n",
       "      <td>0.511</td>\n",
       "      <td>41128772</td>\n",
       "      <td>NaN</td>\n",
       "      <td>NaN</td>\n",
       "      <td>NaN</td>\n",
       "      <td>NaN</td>\n",
       "    </tr>\n",
       "    <tr>\n",
       "      <th>1</th>\n",
       "      <td>AFG</td>\n",
       "      <td>Asia</td>\n",
       "      <td>Afghanistan</td>\n",
       "      <td>2020-01-06</td>\n",
       "      <td>0.0</td>\n",
       "      <td>0.0</td>\n",
       "      <td>NaN</td>\n",
       "      <td>0.0</td>\n",
       "      <td>0.0</td>\n",
       "      <td>NaN</td>\n",
       "      <td>...</td>\n",
       "      <td>NaN</td>\n",
       "      <td>37.746</td>\n",
       "      <td>0.5</td>\n",
       "      <td>64.83</td>\n",
       "      <td>0.511</td>\n",
       "      <td>41128772</td>\n",
       "      <td>NaN</td>\n",
       "      <td>NaN</td>\n",
       "      <td>NaN</td>\n",
       "      <td>NaN</td>\n",
       "    </tr>\n",
       "    <tr>\n",
       "      <th>2</th>\n",
       "      <td>AFG</td>\n",
       "      <td>Asia</td>\n",
       "      <td>Afghanistan</td>\n",
       "      <td>2020-01-07</td>\n",
       "      <td>0.0</td>\n",
       "      <td>0.0</td>\n",
       "      <td>NaN</td>\n",
       "      <td>0.0</td>\n",
       "      <td>0.0</td>\n",
       "      <td>NaN</td>\n",
       "      <td>...</td>\n",
       "      <td>NaN</td>\n",
       "      <td>37.746</td>\n",
       "      <td>0.5</td>\n",
       "      <td>64.83</td>\n",
       "      <td>0.511</td>\n",
       "      <td>41128772</td>\n",
       "      <td>NaN</td>\n",
       "      <td>NaN</td>\n",
       "      <td>NaN</td>\n",
       "      <td>NaN</td>\n",
       "    </tr>\n",
       "    <tr>\n",
       "      <th>3</th>\n",
       "      <td>AFG</td>\n",
       "      <td>Asia</td>\n",
       "      <td>Afghanistan</td>\n",
       "      <td>2020-01-08</td>\n",
       "      <td>0.0</td>\n",
       "      <td>0.0</td>\n",
       "      <td>NaN</td>\n",
       "      <td>0.0</td>\n",
       "      <td>0.0</td>\n",
       "      <td>NaN</td>\n",
       "      <td>...</td>\n",
       "      <td>NaN</td>\n",
       "      <td>37.746</td>\n",
       "      <td>0.5</td>\n",
       "      <td>64.83</td>\n",
       "      <td>0.511</td>\n",
       "      <td>41128772</td>\n",
       "      <td>NaN</td>\n",
       "      <td>NaN</td>\n",
       "      <td>NaN</td>\n",
       "      <td>NaN</td>\n",
       "    </tr>\n",
       "    <tr>\n",
       "      <th>4</th>\n",
       "      <td>AFG</td>\n",
       "      <td>Asia</td>\n",
       "      <td>Afghanistan</td>\n",
       "      <td>2020-01-09</td>\n",
       "      <td>0.0</td>\n",
       "      <td>0.0</td>\n",
       "      <td>NaN</td>\n",
       "      <td>0.0</td>\n",
       "      <td>0.0</td>\n",
       "      <td>NaN</td>\n",
       "      <td>...</td>\n",
       "      <td>NaN</td>\n",
       "      <td>37.746</td>\n",
       "      <td>0.5</td>\n",
       "      <td>64.83</td>\n",
       "      <td>0.511</td>\n",
       "      <td>41128772</td>\n",
       "      <td>NaN</td>\n",
       "      <td>NaN</td>\n",
       "      <td>NaN</td>\n",
       "      <td>NaN</td>\n",
       "    </tr>\n",
       "  </tbody>\n",
       "</table>\n",
       "<p>5 rows × 67 columns</p>\n",
       "</div>"
      ],
      "text/plain": [
       "  iso_code continent     location        date  total_cases  new_cases  \\\n",
       "0      AFG      Asia  Afghanistan  2020-01-05          0.0        0.0   \n",
       "1      AFG      Asia  Afghanistan  2020-01-06          0.0        0.0   \n",
       "2      AFG      Asia  Afghanistan  2020-01-07          0.0        0.0   \n",
       "3      AFG      Asia  Afghanistan  2020-01-08          0.0        0.0   \n",
       "4      AFG      Asia  Afghanistan  2020-01-09          0.0        0.0   \n",
       "\n",
       "   new_cases_smoothed  total_deaths  new_deaths  new_deaths_smoothed  ...  \\\n",
       "0                 NaN           0.0         0.0                  NaN  ...   \n",
       "1                 NaN           0.0         0.0                  NaN  ...   \n",
       "2                 NaN           0.0         0.0                  NaN  ...   \n",
       "3                 NaN           0.0         0.0                  NaN  ...   \n",
       "4                 NaN           0.0         0.0                  NaN  ...   \n",
       "\n",
       "   male_smokers  handwashing_facilities  hospital_beds_per_thousand  \\\n",
       "0           NaN                  37.746                         0.5   \n",
       "1           NaN                  37.746                         0.5   \n",
       "2           NaN                  37.746                         0.5   \n",
       "3           NaN                  37.746                         0.5   \n",
       "4           NaN                  37.746                         0.5   \n",
       "\n",
       "   life_expectancy  human_development_index  population  \\\n",
       "0            64.83                    0.511    41128772   \n",
       "1            64.83                    0.511    41128772   \n",
       "2            64.83                    0.511    41128772   \n",
       "3            64.83                    0.511    41128772   \n",
       "4            64.83                    0.511    41128772   \n",
       "\n",
       "   excess_mortality_cumulative_absolute  excess_mortality_cumulative  \\\n",
       "0                                   NaN                          NaN   \n",
       "1                                   NaN                          NaN   \n",
       "2                                   NaN                          NaN   \n",
       "3                                   NaN                          NaN   \n",
       "4                                   NaN                          NaN   \n",
       "\n",
       "   excess_mortality  excess_mortality_cumulative_per_million  \n",
       "0               NaN                                      NaN  \n",
       "1               NaN                                      NaN  \n",
       "2               NaN                                      NaN  \n",
       "3               NaN                                      NaN  \n",
       "4               NaN                                      NaN  \n",
       "\n",
       "[5 rows x 67 columns]"
      ]
     },
     "execution_count": 7,
     "metadata": {},
     "output_type": "execute_result"
    }
   ],
   "source": [
    "# Previewing the first few rows of the dataframe to understand its structure.\n",
    "df.head(5)"
   ]
  },
  {
   "cell_type": "code",
   "execution_count": 8,
   "id": "c7be7e90",
   "metadata": {},
   "outputs": [
    {
     "data": {
      "text/plain": [
       "iso_code                                        0\n",
       "continent                                   26525\n",
       "location                                        0\n",
       "date                                            0\n",
       "total_cases                                 17631\n",
       "                                            ...  \n",
       "population                                      0\n",
       "excess_mortality_cumulative_absolute       416024\n",
       "excess_mortality_cumulative                416024\n",
       "excess_mortality                           416024\n",
       "excess_mortality_cumulative_per_million    416024\n",
       "Length: 67, dtype: int64"
      ]
     },
     "execution_count": 8,
     "metadata": {},
     "output_type": "execute_result"
    }
   ],
   "source": [
    "#Identify the misssing values in the dataset.\n",
    "df.isnull().sum()"
   ]
  },
  {
   "cell_type": "markdown",
   "id": "d49e952e",
   "metadata": {},
   "source": [
    "**Data Cleaning**\n",
    "\n",
    "*Goal: Prepare data for analysis.*\n",
    "\n",
    "✅ Tasks:\n",
    "\n",
    "- Filter countries of interest (e.g., Kenya, USA, India).\n",
    "\n",
    "- Drop rows with missing dates/critical values.\n",
    "\n",
    "- Convert date column to datetime: pd.to_datetime().\n",
    "\n",
    "- Handle missing numeric values with fillna() or interpolate()"
   ]
  },
  {
   "cell_type": "code",
   "execution_count": 18,
   "id": "361687b4",
   "metadata": {},
   "outputs": [
    {
     "name": "stdout",
     "output_type": "stream",
     "text": [
      "Interpolated missing values in: icu_patients\n",
      "Interpolated missing values in: hosp_patients\n",
      "Interpolated missing values in: total_tests\n",
      "Interpolated missing values in: new_tests\n",
      "Interpolated missing values in: positive_rate\n",
      "Interpolated missing values in: total_vaccinations\n",
      "Interpolated missing values in: people_vaccinated\n",
      "Interpolated missing values in: people_fully_vaccinated\n",
      "Interpolated missing values in: total_boosters\n",
      "\n",
      "First few rows of the filtered and processed DataFrame:\n",
      "     iso_code continent location       date  total_cases  new_cases  \\\n",
      "5022      DZA    Africa  Algeria 2020-01-05          0.0        0.0   \n",
      "5023      DZA    Africa  Algeria 2020-01-06          0.0        0.0   \n",
      "5024      DZA    Africa  Algeria 2020-01-07          0.0        0.0   \n",
      "5025      DZA    Africa  Algeria 2020-01-08          0.0        0.0   \n",
      "5026      DZA    Africa  Algeria 2020-01-09          0.0        0.0   \n",
      "\n",
      "      new_cases_smoothed  total_deaths  new_deaths  new_deaths_smoothed  ...  \\\n",
      "5022                 NaN           0.0         0.0                  NaN  ...   \n",
      "5023                 NaN           0.0         0.0                  NaN  ...   \n",
      "5024                 NaN           0.0         0.0                  NaN  ...   \n",
      "5025                 NaN           0.0         0.0                  NaN  ...   \n",
      "5026                 NaN           0.0         0.0                  NaN  ...   \n",
      "\n",
      "      male_smokers  handwashing_facilities  hospital_beds_per_thousand  \\\n",
      "5022          30.4                  83.741                         1.9   \n",
      "5023          30.4                  83.741                         1.9   \n",
      "5024          30.4                  83.741                         1.9   \n",
      "5025          30.4                  83.741                         1.9   \n",
      "5026          30.4                  83.741                         1.9   \n",
      "\n",
      "      life_expectancy  human_development_index  population  \\\n",
      "5022            76.88                    0.748    44903228   \n",
      "5023            76.88                    0.748    44903228   \n",
      "5024            76.88                    0.748    44903228   \n",
      "5025            76.88                    0.748    44903228   \n",
      "5026            76.88                    0.748    44903228   \n",
      "\n",
      "      excess_mortality_cumulative_absolute  excess_mortality_cumulative  \\\n",
      "5022                                   NaN                          NaN   \n",
      "5023                                   NaN                          NaN   \n",
      "5024                                   NaN                          NaN   \n",
      "5025                                   NaN                          NaN   \n",
      "5026                                   NaN                          NaN   \n",
      "\n",
      "      excess_mortality  excess_mortality_cumulative_per_million  \n",
      "5022               NaN                                      NaN  \n",
      "5023               NaN                                      NaN  \n",
      "5024               NaN                                      NaN  \n",
      "5025               NaN                                      NaN  \n",
      "5026               NaN                                      NaN  \n",
      "\n",
      "[5 rows x 67 columns]\n"
     ]
    },
    {
     "name": "stderr",
     "output_type": "stream",
     "text": [
      "C:\\Users\\Mr_IP\\AppData\\Local\\Temp\\ipykernel_12368\\3223138823.py:31: FutureWarning: A value is trying to be set on a copy of a DataFrame or Series through chained assignment using an inplace method.\n",
      "The behavior will change in pandas 3.0. This inplace method will never work because the intermediate object on which we are setting values always behaves as a copy.\n",
      "\n",
      "For example, when doing 'df[col].method(value, inplace=True)', try using 'df.method({col: value}, inplace=True)' or df[col] = df[col].method(value) instead, to perform the operation inplace on the original object.\n",
      "\n",
      "\n",
      "  df_filtered[col].interpolate(inplace=True, limit_direction='both')\n"
     ]
    }
   ],
   "source": [
    "import pandas as pd\n",
    "\n",
    "# Load the dataset\n",
    "df = pd.read_csv(\"owid-covid-data.csv\")\n",
    "\n",
    "# Define the list of economies of interest\n",
    "Economies_of_interest = ['Egypt', 'Nigeria', 'South Africa', 'Kenya', 'Algeria']\n",
    "\n",
    "# Filter the DataFrame for the specified economies. \n",
    "df_filtered = df[df['location'].isin(Economies_of_interest)].copy()\n",
    "\n",
    "# Drop rows with missing dates\n",
    "df_filtered.dropna(subset=['date'], inplace=True)\n",
    "\n",
    "# Converting the 'date' column to datetime objects\n",
    "df_filtered['date'] = pd.to_datetime(df_filtered['date'])\n",
    "\n",
    "# Identifying critical numeric columns where missing values might be problematic for analysis\n",
    "critical_numeric_cols = ['total_cases', 'new_cases', 'total_deaths', 'new_deaths',\n",
    "                         'total_cases_per_million', 'new_cases_per_million',\n",
    "                         'total_deaths_per_million', 'new_deaths_per_million',\n",
    "                        'icu_patients', 'hosp_patients',\n",
    "                         'total_tests', 'new_tests', 'positive_rate',\n",
    "                         'total_vaccinations', 'people_vaccinated',\n",
    "                         'people_fully_vaccinated', 'total_boosters']\n",
    "\n",
    "# Handling missing values in the critical numeric columns using interpolation (if possible)\n",
    "for col in critical_numeric_cols:\n",
    "    if df_filtered[col].isnull().any():\n",
    "        try:\n",
    "            df_filtered[col].interpolate(inplace=True, limit_direction='both')\n",
    "            print(f\"Interpolated missing values in: {col}\")\n",
    "        except ValueError:\n",
    "            print(f\"Could not interpolate missing values in: {col}. Consider using fillna().\")\n",
    "\n",
    "# Filling any remaining missing values in critical columns after interpolation with 0 or another appropriate value.\n",
    "for col in critical_numeric_cols:\n",
    "    if df_filtered[col].isnull().any():\n",
    "        df_filtered[col].fillna(0, inplace=True)  # Example: Filling remaining NaNs with 0\n",
    "        print(f\"Filled remaining missing values (after interpolation) in {col} with 0.\")\n",
    "\n",
    "# Display the first few rows of the processed DataFrame\n",
    "print(\"\\nFirst few rows of the filtered and processed DataFrame:\")\n",
    "print(df_filtered.head(5))"
   ]
  },
  {
   "cell_type": "markdown",
   "id": "8e9655fd",
   "metadata": {},
   "source": [
    "**Exploratory Data Analysis (EDA)**\n",
    "\n",
    "*Goal: Generate descriptive statistics & explore trends.*\n",
    "\n",
    "Tasks:\n",
    "\n",
    "- Plot total cases over time for selected countries.\n",
    "\n",
    "- Plot total deaths over time.\n",
    "\n",
    "- Compare daily new cases between countries.\n",
    "\n",
    "- Calculate the death rate: total_deaths / total_cases."
   ]
  },
  {
   "cell_type": "markdown",
   "id": "5b252163",
   "metadata": {},
   "source": [
    "*i. Plotting total Cases over time for the selected African economies.*"
   ]
  },
  {
   "cell_type": "code",
   "execution_count": 26,
   "id": "8ebdd231",
   "metadata": {},
   "outputs": [
    {
     "data": {
      "image/png": "[encoded data removed]",
      "text/plain": [
       "<Figure size 1200x600 with 1 Axes>"
      ]
     },
     "metadata": {},
     "output_type": "display_data"
    }
   ],
   "source": [
    "# Create the plot for total cases over time for the selected economies.\n",
    "plt.figure(figsize=(12, 6))\n",
    "for country in Economies_of_interest:\n",
    "    country_data = df_filtered[df_filtered['location'] == country]\n",
    "    plt.plot(country_data.index, country_data['total_cases'], label=country)\n",
    "\n",
    "# Add labels and title\n",
    "plt.xlabel('Time')\n",
    "plt.ylabel('Total Cases')\n",
    "plt.title('Total COVID-19 Cases Over Time for Selected Acrican Economies')\n",
    "plt.legend(title='Country')\n",
    "plt.grid(True)\n",
    "plt.tight_layout()\n",
    "plt.show()"
   ]
  },
  {
   "cell_type": "markdown",
   "id": "5f9ef716",
   "metadata": {},
   "source": [
    "N/B: \n",
    "- *The graph shows that South Africa registered the highest number Covid-19 cases for the selected African economies.*\n",
    "- *There was a surge in cases between 2021 and 2022 for all the economies/countries.*\n",
    "- *Few Cases were reported after 2024.*"
   ]
  },
  {
   "cell_type": "markdown",
   "id": "412c7556",
   "metadata": {},
   "source": [
    "*ii.Plotting the total deaths over time for the selected economies.*"
   ]
  },
  {
   "cell_type": "code",
   "execution_count": 28,
   "id": "67a21400",
   "metadata": {},
   "outputs": [
    {
     "data": {
      "image/png": "[encoded data removed]",
      "text/plain": [
       "<Figure size 1200x600 with 1 Axes>"
      ]
     },
     "metadata": {},
     "output_type": "display_data"
    }
   ],
   "source": [
    "#Plotting the total deaths over time for the selected economies.\n",
    "plt.figure(figsize=(12, 6))\n",
    "for country in Economies_of_interest:\n",
    "    country_data = df_filtered[df_filtered['location'] == country]\n",
    "    plt.plot(country_data.index, country_data['total_deaths'], label=country)\n",
    "# Add labels and title\n",
    "plt.xlabel('Time')\n",
    "plt.ylabel('Total Deaths')\n",
    "plt.title('Total COVID-19 Deaths Over Time for Selected African Economies')\n",
    "plt.legend(title='Country')\n",
    "plt.grid(True)\n",
    "plt.tight_layout()\n",
    "plt.show()"
   ]
  },
  {
   "cell_type": "markdown",
   "id": "194b5ca2",
   "metadata": {},
   "source": [
    "N/B: The graph shows that South Africa registered the highest number Covid-19 deaths for the selected African economies. "
   ]
  },
  {
   "cell_type": "markdown",
   "id": "08019108",
   "metadata": {},
   "source": [
    "*iii. Comparing daily new cases between countries*"
   ]
  },
  {
   "cell_type": "code",
   "execution_count": 34,
   "id": "6c3a5bf2",
   "metadata": {},
   "outputs": [
    {
     "name": "stdout",
     "output_type": "stream",
     "text": [
      "Total new COVID-19 cases for each selected country:\n",
      "\n",
      "location\n",
      "South Africa    4072765.0\n",
      "Egypt            516023.0\n",
      "Kenya            344106.0\n",
      "Algeria          272139.0\n",
      "Nigeria          267188.0\n",
      "Name: new_cases, dtype: float64\n"
     ]
    },
    {
     "data": {
      "image/png": "[encoded data removed]",
      "text/plain": [
       "<Figure size 800x500 with 1 Axes>"
      ]
     },
     "metadata": {},
     "output_type": "display_data"
    }
   ],
   "source": [
    "# Group by location and sum the 'new_cases' for each country\n",
    "total_new_cases_per_country = df_filtered.groupby('location')['new_cases'].sum().sort_values(ascending=False)\n",
    "\n",
    "print(\"Total new COVID-19 cases for each selected country:\\n\")\n",
    "print(total_new_cases_per_country)\n",
    "\n",
    "# Create the bar graph\n",
    "plt.figure(figsize=(8, 5))\n",
    "total_new_cases_per_country.plot(kind='bar', color='orange')\n",
    "plt.xlabel('Country')\n",
    "plt.ylabel('Total New Cases')\n",
    "plt.title('Comparison of Total Daily New COVID-19 Cases for Selected Countries')\n",
    "plt.xticks(rotation=45, ha='right')\n",
    "plt.tight_layout()\n",
    "plt.show()"
   ]
  },
  {
   "cell_type": "markdown",
   "id": "2c885a07",
   "metadata": {},
   "source": [
    "- *South Africa registered the highest numbe of daily new cases of Covid-19 for the selected five African economies.*\n",
    "- *South Africa led the other countries in daily new cases with a bigger margin (Over 4 million cases).*\n",
    "- *Nigerial had the lowest cumulative daily new cases.*"
   ]
  },
  {
   "cell_type": "markdown",
   "id": "186ab90f",
   "metadata": {},
   "source": [
    "**Visualising Vaccination Progress.**\n",
    "\n",
    "*Goal: To Analyze vaccination rollouts.*\n",
    "\n",
    "Tasks:\n",
    "- Plot cumulative vaccinations over time for selected countries.\n",
    "\n",
    "- Compare % vaccinated population."
   ]
  },
  {
   "cell_type": "markdown",
   "id": "32babd0e",
   "metadata": {},
   "source": [
    "*i. Cumulative vaccinations over time for selected countries.*"
   ]
  },
  {
   "cell_type": "code",
   "execution_count": 48,
   "id": "10e3eff9",
   "metadata": {},
   "outputs": [
    {
     "data": {
      "image/png": "[encoded data removed]",
      "text/plain": [
       "<Figure size 1200x400 with 1 Axes>"
      ]
     },
     "metadata": {},
     "output_type": "display_data"
    }
   ],
   "source": [
    "import pandas as pd\n",
    "import seaborn as sns\n",
    "import matplotlib.pyplot as plt\n",
    "\n",
    "# Load and filter data (as done before)\n",
    "df = pd.read_csv(\"owid-covid-data.csv\")\n",
    "Economies_of_interest = ['Egypt', 'Nigeria', 'South Africa', 'Kenya', 'Algeria']\n",
    "df_filtered = df[df['location'].isin(Economies_of_interest)].copy()\n",
    "df_filtered.dropna(subset=['date', 'total_vaccinations'], inplace=True)\n",
    "df_filtered['date'] = pd.to_datetime(df_filtered['date'])\n",
    "\n",
    "plt.figure(figsize=(12, 4))\n",
    "sns.lineplot(data=df_filtered, x='date', y='total_vaccinations', hue='location')\n",
    "plt.xlabel('Date')\n",
    "plt.ylabel('Total Vaccinations')\n",
    "plt.title('Cumulative COVID-19 Vaccinations Over Time for Selected Countries')\n",
    "plt.legend(title='Country')\n",
    "plt.grid(True)\n",
    "plt.tight_layout()\n",
    "plt.show()"
   ]
  },
  {
   "cell_type": "markdown",
   "id": "8f8f5425",
   "metadata": {},
   "source": [
    "- *Nigerial leads in the cumulative vaccinations trend and has the highest number of total vaccinations*\n",
    "- *Egypt comes second*\n",
    "- *All countries registered a growing trend in totoal vaccinations*\n"
   ]
  },
  {
   "cell_type": "markdown",
   "id": "7b0860f6",
   "metadata": {},
   "source": [
    "*ii. Comparing Percentage of Vaccinated population in each country.*\n",
    "\n",
    "To show percentage vaccinated versus unvaccinated people. "
   ]
  },
  {
   "cell_type": "code",
   "execution_count": 57,
   "id": "33ba6e01",
   "metadata": {},
   "outputs": [
    {
     "data": {
      "image/png": "[encoded data removed]",
      "text/plain": [
       "<Figure size 1700x500 with 5 Axes>"
      ]
     },
     "metadata": {},
     "output_type": "display_data"
    }
   ],
   "source": [
    "import pandas as pd\n",
    "import matplotlib.pyplot as plt\n",
    "import seaborn as sns\n",
    "\n",
    "# Load the dataset\n",
    "df = pd.read_csv(\"owid-covid-data.csv\")\n",
    "\n",
    "# Define the list of countries of interest\n",
    "Economies_of_interest = ['Egypt', 'Nigeria', 'South Africa', 'Kenya', 'Algeria']\n",
    "\n",
    "# Filter the DataFrame for the specified countries\n",
    "df_filtered = df[df['location'].isin(Economies_of_interest)].copy()\n",
    "\n",
    "# Calculate the percentage of the population vaccinated\n",
    "df_filtered['vaccinated_percentage'] = (df_filtered['people_vaccinated'] / df_filtered['population']) * 100\n",
    "\n",
    "# Create pie charts for each country\n",
    "fig, axs = plt.subplots(1, len(Economies_of_interest), figsize=(17, 5), subplot_kw=dict(aspect=\"equal\"))\n",
    "\n",
    "# Set the title for the entire figure\n",
    "fig.suptitle('Percentage of Population Vaccinated')\n",
    "\n",
    "# Ensure latest_data contains the latest data for each country\n",
    "latest_data = df_filtered.sort_values('date').groupby('location').last().reset_index()\n",
    "\n",
    "# Create pie charts for each country\n",
    "for i, country in enumerate(Economies_of_interest):\n",
    "    country_data = latest_data[latest_data['location'] == country]\n",
    "    if not country_data.empty:\n",
    "        vaccinated_percentage = country_data['vaccinated_percentage'].values[0]\n",
    "        unvaccinated_percentage = 100 - vaccinated_percentage\n",
    "\n",
    "        sizes = [vaccinated_percentage, unvaccinated_percentage]\n",
    "        labels = ['Vaccinated', 'Unvaccinated']\n",
    "        colors = ['green', 'orange']\n",
    "        explode = (0.1, 0)  # Exploding the 1st slice (Vaccinated)\n",
    "\n",
    "        axs[i].pie(sizes, explode=explode, labels=labels, colors=colors, autopct='%1.1f%%',\n",
    "                 shadow=True, startangle=140)\n",
    "        axs[i].set_title(country)\n",
    "    else:\n",
    "        axs[i].text(0.5, 0.5, 'No Data', horizontalalignment='center', verticalalignment='center')\n",
    "        axs[i].set_title(country)\n",
    "\n",
    "plt.tight_layout(rect=[0, 0.03, 1, 0.95])  # Adjusted layout to prevent title overlap\n",
    "plt.show()"
   ]
  },
  {
   "cell_type": "markdown",
   "id": "c3ce9046",
   "metadata": {},
   "source": [
    "- *Egypt has the largest percentage of its population who have been vaccinated.*\n",
    "- *The largest percentage of unvaccinated are in Algeria thus poor vaccine uptake.*\n",
    "- *Just over 50% of the population in Egypt has been vaccinated signifying effective vaccine admninistration.*\n",
    "\n"
   ]
  },
  {
   "cell_type": "markdown",
   "id": "f2506a86",
   "metadata": {},
   "source": [
    "**Choropleth Map**\n",
    "\n",
    "Goal: Visualize cases or vaccination rates by country on a world map using plotly express. \n",
    "\n",
    "Tasks:\n",
    "\n",
    "- Prepare a dataframe with iso_code, total_cases for the latest date.\n",
    "\n",
    "- Plot a choropleth showing case density or vaccination rates."
   ]
  },
  {
   "cell_type": "code",
   "execution_count": 4,
   "id": "3d66a2e3",
   "metadata": {},
   "outputs": [
    {
     "data": {
      "application/vnd.plotly.v1+json": {
       "config": {
        "plotlyServerURL": "https://plot.ly"
       },
       "data": [
        {
         "coloraxis": "coloraxis",
         "geo": "geo",
         "hovertemplate": "<b>%{hovertext}</b><br><br>iso_code=%{location}<br>total_cases=%{z}<extra></extra>",
         "hovertext": [
          "Afghanistan",
          "Africa",
          "Albania",
          "Algeria",
          "American Samoa",
          "Andorra",
          "Angola",
          "Anguilla",
          "Antigua and Barbuda",
          "Argentina",
          "Armenia",
          "Aruba",
          "Asia",
          "Australia",
          "Austria",
          "Azerbaijan",
          "Bahamas",
          "Bahrain",
          "Bangladesh",
          "Barbados",
          "Belarus",
          "Belgium",
          "Belize",
          "Benin",
          "Bermuda",
          "Bhutan",
          "Bolivia",
          "Bonaire Sint Eustatius and Saba",
          "Bosnia and Herzegovina",
          "Botswana",
          "Brazil",
          "British Virgin Islands",
          "Brunei",
          "Bulgaria",
          "Burkina Faso",
          "Burundi",
          "Cambodia",
          "Cameroon",
          "Canada",
          "Cape Verde",
          "Cayman Islands",
          "Central African Republic",
          "Chad",
          "Chile",
          "China",
          "Colombia",
          "Comoros",
          "Congo",
          "Cook Islands",
          "Costa Rica",
          "Cote d'Ivoire",
          "Croatia",
          "Cuba",
          "Curacao",
          "Cyprus",
          "Czechia",
          "Democratic Republic of Congo",
          "Denmark",
          "Djibouti",
          "Dominica",
          "Dominican Republic",
          "East Timor",
          "Ecuador",
          "Egypt",
          "El Salvador",
          "England",
          "Equatorial Guinea",
          "Eritrea",
          "Estonia",
          "Eswatini",
          "Ethiopia",
          "Europe",
          "European Union (27)",
          "Falkland Islands",
          "Faroe Islands",
          "Fiji",
          "Finland",
          "France",
          "French Guiana",
          "French Polynesia",
          "Gabon",
          "Gambia",
          "Georgia",
          "Germany",
          "Ghana",
          "Gibraltar",
          "Greece",
          "Greenland",
          "Grenada",
          "Guadeloupe",
          "Guam",
          "Guatemala",
          "Guernsey",
          "Guinea",
          "Guinea-Bissau",
          "Guyana",
          "Haiti",
          "High-income countries",
          "Honduras",
          "Hong Kong",
          "Hungary",
          "Iceland",
          "India",
          "Indonesia",
          "Iran",
          "Iraq",
          "Ireland",
          "Isle of Man",
          "Israel",
          "Italy",
          "Jamaica",
          "Japan",
          "Jersey",
          "Jordan",
          "Kazakhstan",
          "Kenya",
          "Kiribati",
          "Kosovo",
          "Kuwait",
          "Kyrgyzstan",
          "Laos",
          "Latvia",
          "Lebanon",
          "Lesotho",
          "Liberia",
          "Libya",
          "Liechtenstein",
          "Lithuania",
          "Low-income countries",
          "Lower-middle-income countries",
          "Luxembourg",
          "Macao",
          "Madagascar",
          "Malawi",
          "Malaysia",
          "Maldives",
          "Mali",
          "Malta",
          "Marshall Islands",
          "Martinique",
          "Mauritania",
          "Mauritius",
          "Mayotte",
          "Mexico",
          "Micronesia (country)",
          "Moldova",
          "Monaco",
          "Mongolia",
          "Montenegro",
          "Montserrat",
          "Morocco",
          "Mozambique",
          "Myanmar",
          "Namibia",
          "Nauru",
          "Nepal",
          "Netherlands",
          "New Caledonia",
          "New Zealand",
          "Nicaragua",
          "Niger",
          "Nigeria",
          "Niue",
          "North America",
          "North Korea",
          "North Macedonia",
          "Northern Cyprus",
          "Northern Ireland",
          "Northern Mariana Islands",
          "Norway",
          "Oceania",
          "Oman",
          "Pakistan",
          "Palau",
          "Palestine",
          "Panama",
          "Papua New Guinea",
          "Paraguay",
          "Peru",
          "Philippines",
          "Pitcairn",
          "Poland",
          "Portugal",
          "Puerto Rico",
          "Qatar",
          "Reunion",
          "Romania",
          "Russia",
          "Rwanda",
          "Saint Barthelemy",
          "Saint Helena",
          "Saint Kitts and Nevis",
          "Saint Lucia",
          "Saint Martin (French part)",
          "Saint Pierre and Miquelon",
          "Saint Vincent and the Grenadines",
          "Samoa",
          "San Marino",
          "Sao Tome and Principe",
          "Saudi Arabia",
          "Scotland",
          "Senegal",
          "Serbia",
          "Seychelles",
          "Sierra Leone",
          "Singapore",
          "Sint Maarten (Dutch part)",
          "Slovakia",
          "Slovenia",
          "Solomon Islands",
          "Somalia",
          "South Africa",
          "South America",
          "South Korea",
          "South Sudan",
          "Spain",
          "Sri Lanka",
          "Sudan",
          "Suriname",
          "Sweden",
          "Switzerland",
          "Syria",
          "Taiwan",
          "Tajikistan",
          "Tanzania",
          "Thailand",
          "Togo",
          "Tokelau",
          "Tonga",
          "Trinidad and Tobago",
          "Tunisia",
          "Turkey",
          "Turkmenistan",
          "Turks and Caicos Islands",
          "Tuvalu",
          "Uganda",
          "Ukraine",
          "United Arab Emirates",
          "United Kingdom",
          "United States",
          "United States Virgin Islands",
          "Upper-middle-income countries",
          "Uruguay",
          "Uzbekistan",
          "Vanuatu",
          "Vatican",
          "Venezuela",
          "Vietnam",
          "Wales",
          "Wallis and Futuna",
          "Western Sahara",
          "World",
          "Yemen",
          "Zambia",
          "Zimbabwe"
         ],
         "locations": [
          "AFG",
          "OWID_AFR",
          "ALB",
          "DZA",
          "ASM",
          "AND",
          "AGO",
          "AIA",
          "ATG",
          "ARG",
          "ARM",
          "ABW",
          "OWID_ASI",
          "AUS",
          "AUT",
          "AZE",
          "BHS",
          "BHR",
          "BGD",
          "BRB",
          "BLR",
          "BEL",
          "BLZ",
          "BEN",
          "BMU",
          "BTN",
          "BOL",
          "BES",
          "BIH",
          "BWA",
          "BRA",
          "VGB",
          "BRN",
          "BGR",
          "BFA",
          "BDI",
          "KHM",
          "CMR",
          "CAN",
          "CPV",
          "CYM",
          "CAF",
          "TCD",
          "CHL",
          "CHN",
          "COL",
          "COM",
          "COG",
          "COK",
          "CRI",
          "CIV",
          "HRV",
          "CUB",
          "CUW",
          "CYP",
          "CZE",
          "COD",
          "DNK",
          "DJI",
          "DMA",
          "DOM",
          "TLS",
          "ECU",
          "EGY",
          "SLV",
          "OWID_ENG",
          "GNQ",
          "ERI",
          "EST",
          "SWZ",
          "ETH",
          "OWID_EUR",
          "OWID_EUN",
          "FLK",
          "FRO",
          "FJI",
          "FIN",
          "FRA",
          "GUF",
          "PYF",
          "GAB",
          "GMB",
          "GEO",
          "DEU",
          "GHA",
          "GIB",
          "GRC",
          "GRL",
          "GRD",
          "GLP",
          "GUM",
          "GTM",
          "GGY",
          "GIN",
          "GNB",
          "GUY",
          "HTI",
          "OWID_HIC",
          "HND",
          "HKG",
          "HUN",
          "ISL",
          "IND",
          "IDN",
          "IRN",
          "IRQ",
          "IRL",
          "IMN",
          "ISR",
          "ITA",
          "JAM",
          "JPN",
          "JEY",
          "JOR",
          "KAZ",
          "KEN",
          "KIR",
          "OWID_KOS",
          "KWT",
          "KGZ",
          "LAO",
          "LVA",
          "LBN",
          "LSO",
          "LBR",
          "LBY",
          "LIE",
          "LTU",
          "OWID_LIC",
          "OWID_LMC",
          "LUX",
          "MAC",
          "MDG",
          "MWI",
          "MYS",
          "MDV",
          "MLI",
          "MLT",
          "MHL",
          "MTQ",
          "MRT",
          "MUS",
          "MYT",
          "MEX",
          "FSM",
          "MDA",
          "MCO",
          "MNG",
          "MNE",
          "MSR",
          "MAR",
          "MOZ",
          "MMR",
          "NAM",
          "NRU",
          "NPL",
          "NLD",
          "NCL",
          "NZL",
          "NIC",
          "NER",
          "NGA",
          "NIU",
          "OWID_NAM",
          "PRK",
          "MKD",
          "OWID_CYN",
          "OWID_NIR",
          "MNP",
          "NOR",
          "OWID_OCE",
          "OMN",
          "PAK",
          "PLW",
          "PSE",
          "PAN",
          "PNG",
          "PRY",
          "PER",
          "PHL",
          "PCN",
          "POL",
          "PRT",
          "PRI",
          "QAT",
          "REU",
          "ROU",
          "RUS",
          "RWA",
          "BLM",
          "SHN",
          "KNA",
          "LCA",
          "MAF",
          "SPM",
          "VCT",
          "WSM",
          "SMR",
          "STP",
          "SAU",
          "OWID_SCT",
          "SEN",
          "SRB",
          "SYC",
          "SLE",
          "SGP",
          "SXM",
          "SVK",
          "SVN",
          "SLB",
          "SOM",
          "ZAF",
          "OWID_SAM",
          "KOR",
          "SSD",
          "ESP",
          "LKA",
          "SDN",
          "SUR",
          "SWE",
          "CHE",
          "SYR",
          "TWN",
          "TJK",
          "TZA",
          "THA",
          "TGO",
          "TKL",
          "TON",
          "TTO",
          "TUN",
          "TUR",
          "TKM",
          "TCA",
          "TUV",
          "UGA",
          "UKR",
          "ARE",
          "GBR",
          "USA",
          "VIR",
          "OWID_UMC",
          "URY",
          "UZB",
          "VUT",
          "VAT",
          "VEN",
          "VNM",
          "OWID_WLS",
          "WLF",
          "ESH",
          "OWID_WRL",
          "YEM",
          "ZMB",
          "ZWE"
         ],
         "name": "",
         "type": "choropleth",
         "z": {
          "bdata": "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",
          "dtype": "f8"
         }
        }
       ],
       "layout": {
        "coloraxis": {
         "colorbar": {
          "title": {
           "text": "total_cases"
          }
         },
         "colorscale": [
          [
           0,
           "#0d0887"
          ],
          [
           0.1111111111111111,
           "#46039f"
          ],
          [
           0.2222222222222222,
           "#7201a8"
          ],
          [
           0.3333333333333333,
           "#9c179e"
          ],
          [
           0.4444444444444444,
           "#bd3786"
          ],
          [
           0.5555555555555556,
           "#d8576b"
          ],
          [
           0.6666666666666666,
           "#ed7953"
          ],
          [
           0.7777777777777778,
           "#fb9f3a"
          ],
          [
           0.8888888888888888,
           "#fdca26"
          ],
          [
           1,
           "#f0f921"
          ]
         ]
        },
        "geo": {
         "center": {},
         "domain": {
          "x": [
           0,
           1
          ],
          "y": [
           0,
           1
          ]
         }
        },
        "legend": {
         "tracegroupgap": 0
        },
        "template": {
         "data": {
          "bar": [
           {
            "error_x": {
             "color": "#2a3f5f"
            },
            "error_y": {
             "color": "#2a3f5f"
            },
            "marker": {
             "line": {
              "color": "#E5ECF6",
              "width": 0.5
             },
             "pattern": {
              "fillmode": "overlay",
              "size": 10,
              "solidity": 0.2
             }
            },
            "type": "bar"
           }
          ],
          "barpolar": [
           {
            "marker": {
             "line": {
              "color": "#E5ECF6",
              "width": 0.5
             },
             "pattern": {
              "fillmode": "overlay",
              "size": 10,
              "solidity": 0.2
             }
            },
            "type": "barpolar"
           }
          ],
          "carpet": [
           {
            "aaxis": {
             "endlinecolor": "#2a3f5f",
             "gridcolor": "white",
             "linecolor": "white",
             "minorgridcolor": "white",
             "startlinecolor": "#2a3f5f"
            },
            "baxis": {
             "endlinecolor": "#2a3f5f",
             "gridcolor": "white",
             "linecolor": "white",
             "minorgridcolor": "white",
             "startlinecolor": "#2a3f5f"
            },
            "type": "carpet"
           }
          ],
          "choropleth": [
           {
            "colorbar": {
             "outlinewidth": 0,
             "ticks": ""
            },
            "type": "choropleth"
           }
          ],
          "contour": [
           {
            "colorbar": {
             "outlinewidth": 0,
             "ticks": ""
            },
            "colorscale": [
             [
              0,
              "#0d0887"
             ],
             [
              0.1111111111111111,
              "#46039f"
             ],
             [
              0.2222222222222222,
              "#7201a8"
             ],
             [
              0.3333333333333333,
              "#9c179e"
             ],
             [
              0.4444444444444444,
              "#bd3786"
             ],
             [
              0.5555555555555556,
              "#d8576b"
             ],
             [
              0.6666666666666666,
              "#ed7953"
             ],
             [
              0.7777777777777778,
              "#fb9f3a"
             ],
             [
              0.8888888888888888,
              "#fdca26"
             ],
             [
              1,
              "#f0f921"
             ]
            ],
            "type": "contour"
           }
          ],
          "contourcarpet": [
           {
            "colorbar": {
             "outlinewidth": 0,
             "ticks": ""
            },
            "type": "contourcarpet"
           }
          ],
          "heatmap": [
           {
            "colorbar": {
             "outlinewidth": 0,
             "ticks": ""
            },
            "colorscale": [
             [
              0,
              "#0d0887"
             ],
             [
              0.1111111111111111,
              "#46039f"
             ],
             [
              0.2222222222222222,
              "#7201a8"
             ],
             [
              0.3333333333333333,
              "#9c179e"
             ],
             [
              0.4444444444444444,
              "#bd3786"
             ],
             [
              0.5555555555555556,
              "#d8576b"
             ],
             [
              0.6666666666666666,
              "#ed7953"
             ],
             [
              0.7777777777777778,
              "#fb9f3a"
             ],
             [
              0.8888888888888888,
              "#fdca26"
             ],
             [
              1,
              "#f0f921"
             ]
            ],
            "type": "heatmap"
           }
          ],
          "histogram": [
           {
            "marker": {
             "pattern": {
              "fillmode": "overlay",
              "size": 10,
              "solidity": 0.2
             }
            },
            "type": "histogram"
           }
          ],
          "histogram2d": [
           {
            "colorbar": {
             "outlinewidth": 0,
             "ticks": ""
            },
            "colorscale": [
             [
              0,
              "#0d0887"
             ],
             [
              0.1111111111111111,
              "#46039f"
             ],
             [
              0.2222222222222222,
              "#7201a8"
             ],
             [
              0.3333333333333333,
              "#9c179e"
             ],
             [
              0.4444444444444444,
              "#bd3786"
             ],
             [
              0.5555555555555556,
              "#d8576b"
             ],
             [
              0.6666666666666666,
              "#ed7953"
             ],
             [
              0.7777777777777778,
              "#fb9f3a"
             ],
             [
              0.8888888888888888,
              "#fdca26"
             ],
             [
              1,
              "#f0f921"
             ]
            ],
            "type": "histogram2d"
           }
          ],
          "histogram2dcontour": [
           {
            "colorbar": {
             "outlinewidth": 0,
             "ticks": ""
            },
            "colorscale": [
             [
              0,
              "#0d0887"
             ],
             [
              0.1111111111111111,
              "#46039f"
             ],
             [
              0.2222222222222222,
              "#7201a8"
             ],
             [
              0.3333333333333333,
              "#9c179e"
             ],
             [
              0.4444444444444444,
              "#bd3786"
             ],
             [
              0.5555555555555556,
              "#d8576b"
             ],
             [
              0.6666666666666666,
              "#ed7953"
             ],
             [
              0.7777777777777778,
              "#fb9f3a"
             ],
             [
              0.8888888888888888,
              "#fdca26"
             ],
             [
              1,
              "#f0f921"
             ]
            ],
            "type": "histogram2dcontour"
           }
          ],
          "mesh3d": [
           {
            "colorbar": {
             "outlinewidth": 0,
             "ticks": ""
            },
            "type": "mesh3d"
           }
          ],
          "parcoords": [
           {
            "line": {
             "colorbar": {
              "outlinewidth": 0,
              "ticks": ""
             }
            },
            "type": "parcoords"
           }
          ],
          "pie": [
           {
            "automargin": true,
            "type": "pie"
           }
          ],
          "scatter": [
           {
            "fillpattern": {
             "fillmode": "overlay",
             "size": 10,
             "solidity": 0.2
            },
            "type": "scatter"
           }
          ],
          "scatter3d": [
           {
            "line": {
             "colorbar": {
              "outlinewidth": 0,
              "ticks": ""
             }
            },
            "marker": {
             "colorbar": {
              "outlinewidth": 0,
              "ticks": ""
             }
            },
            "type": "scatter3d"
           }
          ],
          "scattercarpet": [
           {
            "marker": {
             "colorbar": {
              "outlinewidth": 0,
              "ticks": ""
             }
            },
            "type": "scattercarpet"
           }
          ],
          "scattergeo": [
           {
            "marker": {
             "colorbar": {
              "outlinewidth": 0,
              "ticks": ""
             }
            },
            "type": "scattergeo"
           }
          ],
          "scattergl": [
           {
            "marker": {
             "colorbar": {
              "outlinewidth": 0,
              "ticks": ""
             }
            },
            "type": "scattergl"
           }
          ],
          "scattermap": [
           {
            "marker": {
             "colorbar": {
              "outlinewidth": 0,
              "ticks": ""
             }
            },
            "type": "scattermap"
           }
          ],
          "scattermapbox": [
           {
            "marker": {
             "colorbar": {
              "outlinewidth": 0,
              "ticks": ""
             }
            },
            "type": "scattermapbox"
           }
          ],
          "scatterpolar": [
           {
            "marker": {
             "colorbar": {
              "outlinewidth": 0,
              "ticks": ""
             }
            },
            "type": "scatterpolar"
           }
          ],
          "scatterpolargl": [
           {
            "marker": {
             "colorbar": {
              "outlinewidth": 0,
              "ticks": ""
             }
            },
            "type": "scatterpolargl"
           }
          ],
          "scatterternary": [
           {
            "marker": {
             "colorbar": {
              "outlinewidth": 0,
              "ticks": ""
             }
            },
            "type": "scatterternary"
           }
          ],
          "surface": [
           {
            "colorbar": {
             "outlinewidth": 0,
             "ticks": ""
            },
            "colorscale": [
             [
              0,
              "#0d0887"
             ],
             [
              0.1111111111111111,
              "#46039f"
             ],
             [
              0.2222222222222222,
              "#7201a8"
             ],
             [
              0.3333333333333333,
              "#9c179e"
             ],
             [
              0.4444444444444444,
              "#bd3786"
             ],
             [
              0.5555555555555556,
              "#d8576b"
             ],
             [
              0.6666666666666666,
              "#ed7953"
             ],
             [
              0.7777777777777778,
              "#fb9f3a"
             ],
             [
              0.8888888888888888,
              "#fdca26"
             ],
             [
              1,
              "#f0f921"
             ]
            ],
            "type": "surface"
           }
          ],
          "table": [
           {
            "cells": {
             "fill": {
              "color": "#EBF0F8"
             },
             "line": {
              "color": "white"
             }
            },
            "header": {
             "fill": {
              "color": "#C8D4E3"
             },
             "line": {
              "color": "white"
             }
            },
            "type": "table"
           }
          ]
         },
         "layout": {
          "annotationdefaults": {
           "arrowcolor": "#2a3f5f",
           "arrowhead": 0,
           "arrowwidth": 1
          },
          "autotypenumbers": "strict",
          "coloraxis": {
           "colorbar": {
            "outlinewidth": 0,
            "ticks": ""
           }
          },
          "colorscale": {
           "diverging": [
            [
             0,
             "#8e0152"
            ],
            [
             0.1,
             "#c51b7d"
            ],
            [
             0.2,
             "#de77ae"
            ],
            [
             0.3,
             "#f1b6da"
            ],
            [
             0.4,
             "#fde0ef"
            ],
            [
             0.5,
             "#f7f7f7"
            ],
            [
             0.6,
             "#e6f5d0"
            ],
            [
             0.7,
             "#b8e186"
            ],
            [
             0.8,
             "#7fbc41"
            ],
            [
             0.9,
             "#4d9221"
            ],
            [
             1,
             "#276419"
            ]
           ],
           "sequential": [
            [
             0,
             "#0d0887"
            ],
            [
             0.1111111111111111,
             "#46039f"
            ],
            [
             0.2222222222222222,
             "#7201a8"
            ],
            [
             0.3333333333333333,
             "#9c179e"
            ],
            [
             0.4444444444444444,
             "#bd3786"
            ],
            [
             0.5555555555555556,
             "#d8576b"
            ],
            [
             0.6666666666666666,
             "#ed7953"
            ],
            [
             0.7777777777777778,
             "#fb9f3a"
            ],
            [
             0.8888888888888888,
             "#fdca26"
            ],
            [
             1,
             "#f0f921"
            ]
           ],
           "sequentialminus": [
            [
             0,
             "#0d0887"
            ],
            [
             0.1111111111111111,
             "#46039f"
            ],
            [
             0.2222222222222222,
             "#7201a8"
            ],
            [
             0.3333333333333333,
             "#9c179e"
            ],
            [
             0.4444444444444444,
             "#bd3786"
            ],
            [
             0.5555555555555556,
             "#d8576b"
            ],
            [
             0.6666666666666666,
             "#ed7953"
            ],
            [
             0.7777777777777778,
             "#fb9f3a"
            ],
            [
             0.8888888888888888,
             "#fdca26"
            ],
            [
             1,
             "#f0f921"
            ]
           ]
          },
          "colorway": [
           "#636efa",
           "#EF553B",
           "#00cc96",
           "#ab63fa",
           "#FFA15A",
           "#19d3f3",
           "#FF6692",
           "#B6E880",
           "#FF97FF",
           "#FECB52"
          ],
          "font": {
           "color": "#2a3f5f"
          },
          "geo": {
           "bgcolor": "white",
           "lakecolor": "white",
           "landcolor": "#E5ECF6",
           "showlakes": true,
           "showland": true,
           "subunitcolor": "white"
          },
          "hoverlabel": {
           "align": "left"
          },
          "hovermode": "closest",
          "mapbox": {
           "style": "light"
          },
          "paper_bgcolor": "white",
          "plot_bgcolor": "#E5ECF6",
          "polar": {
           "angularaxis": {
            "gridcolor": "white",
            "linecolor": "white",
            "ticks": ""
           },
           "bgcolor": "#E5ECF6",
           "radialaxis": {
            "gridcolor": "white",
            "linecolor": "white",
            "ticks": ""
           }
          },
          "scene": {
           "xaxis": {
            "backgroundcolor": "#E5ECF6",
            "gridcolor": "white",
            "gridwidth": 2,
            "linecolor": "white",
            "showbackground": true,
            "ticks": "",
            "zerolinecolor": "white"
           },
           "yaxis": {
            "backgroundcolor": "#E5ECF6",
            "gridcolor": "white",
            "gridwidth": 2,
            "linecolor": "white",
            "showbackground": true,
            "ticks": "",
            "zerolinecolor": "white"
           },
           "zaxis": {
            "backgroundcolor": "#E5ECF6",
            "gridcolor": "white",
            "gridwidth": 2,
            "linecolor": "white",
            "showbackground": true,
            "ticks": "",
            "zerolinecolor": "white"
           }
          },
          "shapedefaults": {
           "line": {
            "color": "#2a3f5f"
           }
          },
          "ternary": {
           "aaxis": {
            "gridcolor": "white",
            "linecolor": "white",
            "ticks": ""
           },
           "baxis": {
            "gridcolor": "white",
            "linecolor": "white",
            "ticks": ""
           },
           "bgcolor": "#E5ECF6",
           "caxis": {
            "gridcolor": "white",
            "linecolor": "white",
            "ticks": ""
           }
          },
          "title": {
           "x": 0.05
          },
          "xaxis": {
           "automargin": true,
           "gridcolor": "white",
           "linecolor": "white",
           "ticks": "",
           "title": {
            "standoff": 15
           },
           "zerolinecolor": "white",
           "zerolinewidth": 2
          },
          "yaxis": {
           "automargin": true,
           "gridcolor": "white",
           "linecolor": "white",
           "ticks": "",
           "title": {
            "standoff": 15
           },
           "zerolinecolor": "white",
           "zerolinewidth": 2
          }
         }
        },
        "title": {
         "text": "Total COVID-19 Cases (Latest Data)"
        }
       }
      }
     },
     "metadata": {},
     "output_type": "display_data"
    }
   ],
   "source": [
    "import pandas as pd\n",
    "import plotly.express as px\n",
    "\n",
    "# Load the dataset\n",
    "df = pd.read_csv(\"owid-covid-data.csv\")\n",
    "\n",
    "# Filter for the latest date available for each country\n",
    "latest_date_df = df.groupby('iso_code')['date'].max().reset_index()\n",
    "latest_data = pd.merge(df, latest_date_df, on=['iso_code', 'date'], how='inner')\n",
    "\n",
    "# Choropleth map of total cases\n",
    "fig_cases = px.choropleth(latest_data,\n",
    "                           locations='iso_code',\n",
    "                           color='total_cases',\n",
    "                           hover_name='location',\n",
    "                           color_continuous_scale=px.colors.sequential.Plasma,\n",
    "                           title='Total COVID-19 Cases (Latest Data)')\n",
    "fig_cases.show()"
   ]
  },
  {
   "cell_type": "markdown",
   "id": "452487e9",
   "metadata": {},
   "source": [
    "Notes: \n",
    "- USA and China Registered the most number of cases globally. \n",
    "- Notably, the lowest cases were reported in the African continent.  "
   ]
  },
  {
   "cell_type": "markdown",
   "id": "73f933bb",
   "metadata": {},
   "source": [
    "**Key Insights**\n",
    "1. South Africa had the highest cases and deaths among the selected African countries.\n",
    "2. Most Covid-19 deaths were reported between 2021 and 2023.\n",
    "3. Rapid vaccinations took place between 2021 and 2023 in all selected top African economies. \n",
    "4. Egypt had the best vaccine rollout with just over 50%. \n",
    "5. Algeria had the poorest vaccine administration with less than 20% of its population vaccinated for Covid-19.\n",
    "6. USA and China led globally in the total number of Covid-19 cases."
   ]
  }
 ],
 "metadata": {
  "kernelspec": {
   "display_name": "Python 3",
   "language": "python",
   "name": "python3"
  },
  "language_info": {
   "codemirror_mode": {
    "name": "ipython",
    "version": 3
   },
   "file_extension": ".py",
   "mimetype": "text/x-python",
   "name": "python",
   "nbconvert_exporter": "python",
   "pygments_lexer": "ipython3",
   "version": "3.13.3"
  }
 },
 "nbformat": 4,
 "nbformat_minor": 5
}
